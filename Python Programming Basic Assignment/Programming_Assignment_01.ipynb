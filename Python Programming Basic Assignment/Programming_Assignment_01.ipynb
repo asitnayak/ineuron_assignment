{
 "cells": [
  {
   "cell_type": "markdown",
   "id": "36ce3abf",
   "metadata": {},
   "source": [
    "### Q1. Write a Python program to print &quot;Hello Python&quot;?"
   ]
  },
  {
   "cell_type": "code",
   "execution_count": 2,
   "id": "530f7a9b",
   "metadata": {},
   "outputs": [
    {
     "name": "stdout",
     "output_type": "stream",
     "text": [
      "Hello Python\n"
     ]
    }
   ],
   "source": [
    "print(\"Hello Python\")"
   ]
  },
  {
   "cell_type": "markdown",
   "id": "37fba406",
   "metadata": {},
   "source": [
    "### Q2. Write a Python program to do arithmetical operations addition and division.?"
   ]
  },
  {
   "cell_type": "code",
   "execution_count": 1,
   "id": "1edbb6a8",
   "metadata": {},
   "outputs": [
    {
     "name": "stdout",
     "output_type": "stream",
     "text": [
      "30\n",
      "2.0\n"
     ]
    }
   ],
   "source": [
    "a = 10\n",
    "b = 20\n",
    "summation = a + b\n",
    "division = b / a\n",
    "\n",
    "print(summation)\n",
    "print(division)"
   ]
  },
  {
   "cell_type": "markdown",
   "id": "e3ae2406",
   "metadata": {},
   "source": [
    "### Q3. Write a Python program to find the area of a triangle?"
   ]
  },
  {
   "cell_type": "code",
   "execution_count": 7,
   "id": "1f7f5ece",
   "metadata": {},
   "outputs": [
    {
     "name": "stdout",
     "output_type": "stream",
     "text": [
      "Area of the trriangle with sides 24, 30, 18 is 216.0 square units\n"
     ]
    }
   ],
   "source": [
    "# Length of sides are in a, b, c variables.\n",
    "import math\n",
    "\n",
    "a = 24\n",
    "b = 30\n",
    "c = 18\n",
    "\n",
    "perimeter = a+b+c\n",
    "s = perimeter/2\n",
    "\n",
    "area = math.sqrt(s * (s-a) * (s-b) * (s-c))\n",
    "print(f\"Area of the trriangle with sides {a}, {b}, {c} is {area} square units\")"
   ]
  },
  {
   "cell_type": "markdown",
   "id": "4bd0a524",
   "metadata": {},
   "source": [
    "### Q4. Write a Python program to swap two variables?"
   ]
  },
  {
   "cell_type": "code",
   "execution_count": 9,
   "id": "bc914010",
   "metadata": {},
   "outputs": [
    {
     "name": "stdout",
     "output_type": "stream",
     "text": [
      "Before swap : 10 , 20\n",
      "Before swap : 20 , 10\n"
     ]
    }
   ],
   "source": [
    "x = 10\n",
    "y = 20\n",
    "\n",
    "print(f\"Before swap : {x} , {y}\")\n",
    "\n",
    "x,y = y,x\n",
    "\n",
    "print(f\"Before swap : {x} , {y}\")"
   ]
  },
  {
   "cell_type": "markdown",
   "id": "e6601795",
   "metadata": {},
   "source": [
    "### Q5. Write a Python program to generate a random number?"
   ]
  },
  {
   "cell_type": "code",
   "execution_count": 16,
   "id": "0dd9900e",
   "metadata": {},
   "outputs": [
    {
     "name": "stdout",
     "output_type": "stream",
     "text": [
      "14\n"
     ]
    }
   ],
   "source": [
    "import random\n",
    "print(random.randint(1,100))"
   ]
  },
  {
   "cell_type": "code",
   "execution_count": null,
   "id": "cd7b9a49",
   "metadata": {},
   "outputs": [],
   "source": []
  }
 ],
 "metadata": {
  "kernelspec": {
   "display_name": "Python 3",
   "language": "python",
   "name": "python3"
  },
  "language_info": {
   "codemirror_mode": {
    "name": "ipython",
    "version": 3
   },
   "file_extension": ".py",
   "mimetype": "text/x-python",
   "name": "python",
   "nbconvert_exporter": "python",
   "pygments_lexer": "ipython3",
   "version": "3.8.8"
  }
 },
 "nbformat": 4,
 "nbformat_minor": 5
}
