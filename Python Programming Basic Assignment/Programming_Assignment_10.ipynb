{
 "cells": [
  {
   "cell_type": "markdown",
   "id": "bf0537fe",
   "metadata": {},
   "source": [
    "### Q1. Write a Python program to find sum of elements in list?"
   ]
  },
  {
   "cell_type": "code",
   "execution_count": 2,
   "id": "855e5137",
   "metadata": {},
   "outputs": [
    {
     "name": "stdout",
     "output_type": "stream",
     "text": [
      "55\n"
     ]
    }
   ],
   "source": [
    "def sumofList(lst):\n",
    "    print(sum(lst))\n",
    "\n",
    "sumofList([1,2,3,4,5,6,7,8,9,10])"
   ]
  },
  {
   "cell_type": "markdown",
   "id": "835758c2",
   "metadata": {},
   "source": [
    "### Q2. Write a Python program to Multiply all numbers in the list?"
   ]
  },
  {
   "cell_type": "code",
   "execution_count": 4,
   "id": "5b76aad8",
   "metadata": {},
   "outputs": [
    {
     "name": "stdout",
     "output_type": "stream",
     "text": [
      "6\n"
     ]
    }
   ],
   "source": [
    "import numpy as np\n",
    "def prodofList(lst):\n",
    "    arr = np.array(lst)\n",
    "    print(np.prod(arr))\n",
    "\n",
    "prodofList([1,2,3])"
   ]
  },
  {
   "cell_type": "markdown",
   "id": "8b078af8",
   "metadata": {},
   "source": [
    "### Q3. Write a Python program to find smallest number in a list?"
   ]
  },
  {
   "cell_type": "code",
   "execution_count": 5,
   "id": "04e4f683",
   "metadata": {},
   "outputs": [
    {
     "name": "stdout",
     "output_type": "stream",
     "text": [
      "1\n"
     ]
    }
   ],
   "source": [
    "def smallestofList(lst):\n",
    "    print(min(lst))\n",
    "\n",
    "smallestofList([1,2,3])"
   ]
  },
  {
   "cell_type": "markdown",
   "id": "15d6be9b",
   "metadata": {},
   "source": [
    "### Q4. Write a Python program to find largest number in a list?"
   ]
  },
  {
   "cell_type": "code",
   "execution_count": 6,
   "id": "308e3b75",
   "metadata": {},
   "outputs": [
    {
     "name": "stdout",
     "output_type": "stream",
     "text": [
      "3\n"
     ]
    }
   ],
   "source": [
    "def largestofList(lst):\n",
    "    print(max(lst))\n",
    "\n",
    "largestofList([1,2,3])"
   ]
  },
  {
   "cell_type": "markdown",
   "id": "a380f706",
   "metadata": {},
   "source": [
    "### Q5. Write a Python program to find second largest number in a list?"
   ]
  },
  {
   "cell_type": "code",
   "execution_count": 9,
   "id": "8d5af497",
   "metadata": {},
   "outputs": [
    {
     "name": "stdout",
     "output_type": "stream",
     "text": [
      "2\n"
     ]
    }
   ],
   "source": [
    "def fun(lst):\n",
    "    lst.sort()\n",
    "    print(lst[1])\n",
    "\n",
    "fun([1,2,3])"
   ]
  },
  {
   "cell_type": "markdown",
   "id": "d6fb6431",
   "metadata": {},
   "source": [
    "### Q6. Write a Python program to find N largest elements from a list?"
   ]
  },
  {
   "cell_type": "code",
   "execution_count": 11,
   "id": "6c991952",
   "metadata": {},
   "outputs": [
    {
     "name": "stdout",
     "output_type": "stream",
     "text": [
      "6\n"
     ]
    }
   ],
   "source": [
    "def nLargestEleInList(lst, k):\n",
    "    lst.sort()\n",
    "    lst.reverse()\n",
    "    print(lst[k-1])\n",
    "\n",
    "nLargestEleInList([1,2,3,4,5,6,7,8,9], 4)"
   ]
  },
  {
   "cell_type": "markdown",
   "id": "b4ac1a7e",
   "metadata": {},
   "source": [
    "### Q7. Write a Python program to print even numbers in a list?"
   ]
  },
  {
   "cell_type": "code",
   "execution_count": null,
   "id": "61ab92f4",
   "metadata": {},
   "outputs": [],
   "source": [
    "# def only_even(lst):\n",
    "    for i in lst:\n",
    "        if i%2 == 0:\n",
    "            print(i)\n",
    "\n",
    "only_even([1,2,3,4,5,6,7,8,9])"
   ]
  },
  {
   "cell_type": "markdown",
   "id": "74760777",
   "metadata": {},
   "source": [
    "### Q8. Write a Python program to print odd numbers in a List?"
   ]
  },
  {
   "cell_type": "code",
   "execution_count": 14,
   "id": "631f67bf",
   "metadata": {},
   "outputs": [
    {
     "name": "stdout",
     "output_type": "stream",
     "text": [
      "1\n",
      "3\n",
      "5\n",
      "7\n",
      "9\n"
     ]
    }
   ],
   "source": [
    "def only_odd(lst):\n",
    "    for i in lst:\n",
    "        if i%2 == 1:\n",
    "            print(i)\n",
    "\n",
    "only_odd([1,2,3,4,5,6,7,8,9])"
   ]
  },
  {
   "cell_type": "markdown",
   "id": "a5625411",
   "metadata": {},
   "source": [
    "### Q9. Write a Python program to Remove empty List from List?"
   ]
  },
  {
   "cell_type": "code",
   "execution_count": 16,
   "id": "6315c80f",
   "metadata": {},
   "outputs": [
    {
     "name": "stdout",
     "output_type": "stream",
     "text": [
      "There is an Empty list in [1, 2, 3, 4, 5, [], 6, 7, 8, 9, 0] at Position 5\n",
      "The List after removing [] is [1, 2, 3, 4, 5, 6, 7, 8, 9, 0]\n"
     ]
    }
   ],
   "source": [
    "def checkEmptyList(lst):\n",
    "    in_list = lst\n",
    "    if [] in in_list:\n",
    "        print(f'There is an Empty list in {in_list} at Position {in_list.index([])}')\n",
    "        in_list.remove([])\n",
    "        print(f'The List after removing [] is {in_list}')\n",
    "    else:\n",
    "        print(f'There is no [] List in the list {in_list}')\n",
    "        \n",
    "checkEmptyList([1,2,3,4,5,[],6,7,8,9,0])"
   ]
  },
  {
   "cell_type": "markdown",
   "id": "6ef797a0",
   "metadata": {},
   "source": [
    "### Q10. Write a Python program to Cloning or Copying a list?"
   ]
  },
  {
   "cell_type": "code",
   "execution_count": 17,
   "id": "57f2485f",
   "metadata": {},
   "outputs": [
    {
     "name": "stdout",
     "output_type": "stream",
     "text": [
      "[1, 2, 3, 4, 5, 6, 7, 8, 9, 0] 2063777060672\n",
      "[1, 2, 3, 4, 5, 6, 7, 8, 9, 0] 2063883736320\n"
     ]
    }
   ],
   "source": [
    "import copy\n",
    "\n",
    "def cloneList(lst):\n",
    "    in_list = lst\n",
    "    print(in_list, id(in_list))\n",
    "    cloned_list = in_list.copy()\n",
    "    print(cloned_list, id(cloned_list))\n",
    "\n",
    "cloneList([1,2,3,4,5,6,7,8,9,0])"
   ]
  },
  {
   "cell_type": "markdown",
   "id": "53a143ec",
   "metadata": {},
   "source": [
    "### Q11. Write a Python program to Count occurrences of an element in a list?"
   ]
  },
  {
   "cell_type": "code",
   "execution_count": 19,
   "id": "21ca0e15",
   "metadata": {},
   "outputs": [
    {
     "name": "stdout",
     "output_type": "stream",
     "text": [
      "3 has occured 2 times\n"
     ]
    }
   ],
   "source": [
    "def nLargestEleInList(lst, k):\n",
    "    c = 0\n",
    "    for i in lst:\n",
    "        if i == k:\n",
    "            c += 1\n",
    "    print(f\"{k} has occured {c} times\")\n",
    "\n",
    "nLargestEleInList([3,1,2,5,6,1,8,9,2,3,4,5,6,7,8,9], 3)"
   ]
  },
  {
   "cell_type": "code",
   "execution_count": null,
   "id": "ef5d9cf2",
   "metadata": {},
   "outputs": [],
   "source": []
  }
 ],
 "metadata": {
  "kernelspec": {
   "display_name": "Python 3",
   "language": "python",
   "name": "python3"
  }
 },
 "nbformat": 4,
 "nbformat_minor": 5
}
