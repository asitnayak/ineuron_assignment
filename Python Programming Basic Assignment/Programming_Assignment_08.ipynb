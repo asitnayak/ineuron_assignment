{
 "cells": [
  {
   "cell_type": "markdown",
   "id": "9ad5aa0d",
   "metadata": {},
   "source": [
    "### Q1. Write a Python Program to Add Two Matrices?"
   ]
  },
  {
   "cell_type": "code",
   "execution_count": 7,
   "id": "681aac43",
   "metadata": {},
   "outputs": [
    {
     "name": "stdout",
     "output_type": "stream",
     "text": [
      "[[ 3  5  8]\n",
      " [ 5  6  7]\n",
      " [ 9 10 11]]\n"
     ]
    }
   ],
   "source": [
    "import numpy as np\n",
    "def add_mat(a, b):\n",
    "    c= np.add(a,b)\n",
    "    print(c)\n",
    "\n",
    "a = np.array([[1,2,3],[4,5,6],[7,8,9]])\n",
    "b = np.array([[2,3,5],[1,1,1],[2,2,2]])\n",
    "add_mat(a,b)"
   ]
  },
  {
   "cell_type": "markdown",
   "id": "7b525c23",
   "metadata": {},
   "source": [
    "### Q2. Write a Python Program to Multiply Two Matrices?"
   ]
  },
  {
   "cell_type": "code",
   "execution_count": 10,
   "id": "0cb14b2b",
   "metadata": {},
   "outputs": [
    {
     "name": "stdout",
     "output_type": "stream",
     "text": [
      "[[10 11 13]\n",
      " [25 29 37]\n",
      " [40 47 61]]\n"
     ]
    }
   ],
   "source": [
    "import numpy as np\n",
    "def mat_mul(a,b):\n",
    "    c = a@b\n",
    "    print(c)\n",
    "    \n",
    "a = np.array([[1,2,3],[4,5,6],[7,8,9]])\n",
    "b = np.array([[2,3,5],[1,1,1],[2,2,2]])\n",
    "mat_mul(a,b)"
   ]
  },
  {
   "cell_type": "markdown",
   "id": "31ee800b",
   "metadata": {},
   "source": [
    "### Q3. Write a Python Program to Transpose a Matrix?"
   ]
  },
  {
   "cell_type": "code",
   "execution_count": 12,
   "id": "c96eea2a",
   "metadata": {},
   "outputs": [
    {
     "name": "stdout",
     "output_type": "stream",
     "text": [
      "[[1 4 7]\n",
      " [2 5 8]\n",
      " [3 6 9]]\n"
     ]
    }
   ],
   "source": [
    "def mat_trans(a):\n",
    "    c = a.T\n",
    "    print(c)\n",
    "    \n",
    "a = np.array([[1,2,3],[4,5,6],[7,8,9]])\n",
    "mat_trans(a)"
   ]
  },
  {
   "cell_type": "markdown",
   "id": "cb491a87",
   "metadata": {},
   "source": [
    "### Q4. Write a Python Program to Sort Words in Alphabetic Order?"
   ]
  },
  {
   "cell_type": "code",
   "execution_count": 13,
   "id": "fd5dbf8d",
   "metadata": {},
   "outputs": [
    {
     "name": "stdout",
     "output_type": "stream",
     "text": [
      "assignment current four is number\n"
     ]
    }
   ],
   "source": [
    "def sortString(ss):\n",
    "    in_string = ss\n",
    "    sorted_list = sorted(in_string.split(' '))\n",
    "    print(' '.join(sorted_list))\n",
    "\n",
    "sortString(\"current assignment is number four\")"
   ]
  },
  {
   "cell_type": "markdown",
   "id": "6bf63499",
   "metadata": {},
   "source": [
    "### Q5. Write a Python Program to Remove Punctuation From a String?"
   ]
  },
  {
   "cell_type": "code",
   "execution_count": 15,
   "id": "17ec13a8",
   "metadata": {},
   "outputs": [
    {
     "name": "stdout",
     "output_type": "stream",
     "text": [
      "wheres the ball \n"
     ]
    }
   ],
   "source": [
    "def removePunctuatuions(ss):\n",
    "    punctuations = '''!()-[]{};:'\"\\,<>./?@#$%^&*_~'''\n",
    "    in_string = ss\n",
    "    out_string = ''\n",
    "    for ele in in_string:\n",
    "        if ele not in punctuations:\n",
    "            out_string += ele\n",
    "    print(out_string)\n",
    "    \n",
    "ss = \"where's the ball !!!\"\n",
    "removePunctuatuions(ss)"
   ]
  },
  {
   "cell_type": "code",
   "execution_count": null,
   "id": "7ecee597",
   "metadata": {},
   "outputs": [],
   "source": []
  }
 ],
 "metadata": {
  "kernelspec": {
   "display_name": "Python 3",
   "language": "python",
   "name": "python3"
  },
  "language_info": {
   "codemirror_mode": {
    "name": "ipython",
    "version": 3
   },
   "file_extension": ".py",
   "mimetype": "text/x-python",
   "name": "python",
   "nbconvert_exporter": "python",
   "pygments_lexer": "ipython3",
   "version": "3.8.8"
  }
 },
 "nbformat": 4,
 "nbformat_minor": 5
}
