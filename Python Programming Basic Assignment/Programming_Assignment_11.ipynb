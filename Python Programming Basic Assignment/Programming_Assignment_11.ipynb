{
 "cells": [
  {
   "cell_type": "markdown",
   "id": "42913610",
   "metadata": {},
   "source": [
    "### Q1. Write a Python program to find words which are greater than given length k?"
   ]
  },
  {
   "cell_type": "code",
   "execution_count": 6,
   "id": "7a29a8ae",
   "metadata": {},
   "outputs": [
    {
     "name": "stdout",
     "output_type": "stream",
     "text": [
      "['hello', 'world', 'how', 'are', 'you']\n"
     ]
    },
    {
     "data": {
      "text/plain": [
       "['hello', 'world']"
      ]
     },
     "execution_count": 6,
     "metadata": {},
     "output_type": "execute_result"
    }
   ],
   "source": [
    "def greaterthan(sentense, length):\n",
    "    words = []\n",
    "    split = sentense.split(\" \")\n",
    "    print(split)\n",
    "    k = length\n",
    "    for i in split:\n",
    "        if len(i)>k:\n",
    "            words.append(i)\n",
    "    return words\n",
    "\n",
    "length = 3\n",
    "greaterthan(\"hello world how are you\", length)"
   ]
  },
  {
   "cell_type": "markdown",
   "id": "2998be2e",
   "metadata": {},
   "source": [
    "### Q2. Write a Python program for removing i-th character from a string?"
   ]
  },
  {
   "cell_type": "code",
   "execution_count": 7,
   "id": "87c94e5b",
   "metadata": {},
   "outputs": [
    {
     "data": {
      "text/plain": [
       "'hello world is Asit'"
      ]
     },
     "execution_count": 7,
     "metadata": {},
     "output_type": "execute_result"
    }
   ],
   "source": [
    "def remove_char(sentense, pos):\n",
    "    split = sentense.split(\" \")\n",
    "    i_th = pos\n",
    "    for i in split:\n",
    "        if split[i_th]==i:\n",
    "            split.remove(i)\n",
    "    sentense = \" \".join(split)\n",
    "    return sentense\n",
    "\n",
    "pos = 2\n",
    "remove_char(\"hello world this is Asit\", pos)"
   ]
  },
  {
   "cell_type": "markdown",
   "id": "af73ea7a",
   "metadata": {},
   "source": [
    "### Q3. Write a Python program to split and join a string?"
   ]
  },
  {
   "cell_type": "code",
   "execution_count": 8,
   "id": "3eb53101",
   "metadata": {},
   "outputs": [
    {
     "name": "stdout",
     "output_type": "stream",
     "text": [
      "Splited sentense:  ['My', 'name', 'is', 'Asit']\n",
      "sentense joined is:  My name is Asit\n"
     ]
    }
   ],
   "source": [
    "def split_join(sentense):\n",
    "    split = sentense.split()\n",
    "    print(\"Splited sentense: \",split)\n",
    "    join  = ' '.join(split)\n",
    "    print(\"sentense joined is: \",join)\n",
    "    \n",
    "    \n",
    "split_join(\"My name is Asit\")"
   ]
  },
  {
   "cell_type": "markdown",
   "id": "01ecbd32",
   "metadata": {},
   "source": [
    "### Q4. Write a Python to check if a given string is binary string or not?"
   ]
  },
  {
   "cell_type": "code",
   "execution_count": 9,
   "id": "17d970ea",
   "metadata": {},
   "outputs": [
    {
     "name": "stdout",
     "output_type": "stream",
     "text": [
      "String is binary\n",
      "String not binary\n"
     ]
    }
   ],
   "source": [
    "def binary_check(string):\n",
    "    arrange = set(string)\n",
    "    binary = {'0','1'}\n",
    "    \n",
    "    if binary == arrange or arrange=={'0'} or arrange == {'1'}:\n",
    "        print(\"String is binary\")\n",
    "    else:\n",
    "        print(\"String not binary\")\n",
    "        \n",
    "        \n",
    "binary_check(\"101010\")\n",
    "binary_check(\"hello\")"
   ]
  },
  {
   "cell_type": "markdown",
   "id": "572cd432",
   "metadata": {},
   "source": [
    "### Q5. Write a Python program to find uncommon words from two Strings?"
   ]
  },
  {
   "cell_type": "code",
   "execution_count": 12,
   "id": "176a849c",
   "metadata": {},
   "outputs": [
    {
     "name": "stdout",
     "output_type": "stream",
     "text": [
      "['My', 'name', 'is', 'Asit'] \n",
      " ['Hello', 'world', 'startement']\n",
      "['My', 'name', 'is', 'Asit', 'Hello', 'world', 'startement']\n"
     ]
    }
   ],
   "source": [
    "string1 = \"My name is Asit\"\n",
    "string2 = \"Hello world startement\"\n",
    "a = string1.split()\n",
    "b = string2.split()\n",
    "print(a,\"\\n\", b)\n",
    "UC = []\n",
    "for i in a:\n",
    "    if i not in b:\n",
    "        UC.append(i)\n",
    "for j in b:\n",
    "    if j not in a:\n",
    "        UC.append(j)\n",
    "print(UC)\n",
    "    "
   ]
  },
  {
   "cell_type": "markdown",
   "id": "52d37730",
   "metadata": {},
   "source": [
    "### Q6. Write a Python to find all duplicate characters in string?"
   ]
  },
  {
   "cell_type": "code",
   "execution_count": 13,
   "id": "baf0254e",
   "metadata": {},
   "outputs": [
    {
     "name": "stdout",
     "output_type": "stream",
     "text": [
      "Duplicate characters are:  ['l', 'o', 'l']\n"
     ]
    }
   ],
   "source": [
    "string = \"hello world\"\n",
    "char = []\n",
    "duplicate = []\n",
    "for i in string:\n",
    "    if i  not in char:\n",
    "        char.append(i)\n",
    "    else:\n",
    "        duplicate.append(i)\n",
    "print(\"Duplicate characters are: \" ,duplicate)"
   ]
  },
  {
   "cell_type": "markdown",
   "id": "9149eded",
   "metadata": {},
   "source": [
    "### Q7. Write a Python Program to check if a string contains any special character?"
   ]
  },
  {
   "cell_type": "code",
   "execution_count": 14,
   "id": "70984776",
   "metadata": {},
   "outputs": [
    {
     "name": "stdout",
     "output_type": "stream",
     "text": [
      "Special Char @ found in given string\n",
      "Special Char # found in given string\n"
     ]
    }
   ],
   "source": [
    "spl_char = '[@_!#$%^&*()<>?/\\|}{~:]'\n",
    "string = \"hell@#O\"\n",
    "\n",
    "for i in string:\n",
    "    if i not in spl_char:\n",
    "        continue\n",
    "        \n",
    "    else:\n",
    "        print(\"Special Char {} found in given string\".format(i))\n"
   ]
  },
  {
   "cell_type": "code",
   "execution_count": null,
   "id": "5b411486",
   "metadata": {},
   "outputs": [],
   "source": []
  }
 ],
 "metadata": {
  "kernelspec": {
   "display_name": "Python 3",
   "language": "python",
   "name": "python3"
  },
  "language_info": {
   "codemirror_mode": {
    "name": "ipython",
    "version": 3
   },
   "file_extension": ".py",
   "mimetype": "text/x-python",
   "name": "python",
   "nbconvert_exporter": "python",
   "pygments_lexer": "ipython3",
   "version": "3.8.8"
  }
 },
 "nbformat": 4,
 "nbformat_minor": 5
}
