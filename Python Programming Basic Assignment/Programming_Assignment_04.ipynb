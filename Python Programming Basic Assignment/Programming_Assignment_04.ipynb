{
 "cells": [
  {
   "cell_type": "markdown",
   "id": "3b1450c1",
   "metadata": {},
   "source": [
    "### Q1. Write a Python Program to Find the Factorial of a Number?"
   ]
  },
  {
   "cell_type": "code",
   "execution_count": 1,
   "id": "94c0ce52",
   "metadata": {},
   "outputs": [
    {
     "data": {
      "text/plain": [
       "120"
      ]
     },
     "execution_count": 1,
     "metadata": {},
     "output_type": "execute_result"
    }
   ],
   "source": [
    "def fact(num):\n",
    "    prod = 1\n",
    "    for i in range(1, num+1):\n",
    "        prod *= i\n",
    "    return prod\n",
    "\n",
    "fact(5)"
   ]
  },
  {
   "cell_type": "markdown",
   "id": "5353fccd",
   "metadata": {},
   "source": [
    "### Q2. Write a Python Program to Display the multiplication Table?"
   ]
  },
  {
   "cell_type": "code",
   "execution_count": 2,
   "id": "42921a65",
   "metadata": {},
   "outputs": [
    {
     "name": "stdout",
     "output_type": "stream",
     "text": [
      "5 X 1 = 5\n",
      "5 X 2 = 10\n",
      "5 X 3 = 15\n",
      "5 X 4 = 20\n",
      "5 X 5 = 25\n",
      "5 X 6 = 30\n",
      "5 X 7 = 35\n",
      "5 X 8 = 40\n",
      "5 X 9 = 45\n",
      "5 X 10 = 50\n"
     ]
    }
   ],
   "source": [
    "def table(num):\n",
    "    for i in range(1,11):\n",
    "        print(f\"{num} X {i} = {num*i}\")\n",
    "        \n",
    "table(5)"
   ]
  },
  {
   "cell_type": "markdown",
   "id": "1742b803",
   "metadata": {},
   "source": [
    "### Q3. Write a Python Program to Print the Fibonacci sequence?"
   ]
  },
  {
   "cell_type": "code",
   "execution_count": 4,
   "id": "2a238bb4",
   "metadata": {},
   "outputs": [
    {
     "name": "stdout",
     "output_type": "stream",
     "text": [
      "0\n",
      "1\n",
      "1\n",
      "2\n",
      "3\n",
      "5\n",
      "8\n"
     ]
    }
   ],
   "source": [
    "def fibo(num):\n",
    "    a = 0\n",
    "    b = 1\n",
    "    if num == 1:\n",
    "        print(a)\n",
    "        return\n",
    "    if num == 2:\n",
    "        print(a)\n",
    "        print(b)\n",
    "        return\n",
    "    print(a)\n",
    "    print(b)\n",
    "    for i in range(num):\n",
    "        c = a+b\n",
    "        print(c)\n",
    "        a = b\n",
    "        b = c\n",
    "    return\n",
    "\n",
    "fibo(5)        "
   ]
  },
  {
   "cell_type": "markdown",
   "id": "b9ddd66c",
   "metadata": {},
   "source": [
    "### Q4. Write a Python Program to Check Armstrong Number? "
   ]
  },
  {
   "cell_type": "code",
   "execution_count": 13,
   "id": "ba319c44",
   "metadata": {},
   "outputs": [
    {
     "name": "stdout",
     "output_type": "stream",
     "text": [
      "153 is an Armstrong number\n"
     ]
    }
   ],
   "source": [
    "def arm(num):\n",
    "    num = str(num)\n",
    "    pow = len(num)\n",
    "    sum = 0\n",
    "    for i in range(pow):\n",
    "        sum += int(num[i]) ** pow\n",
    "    if sum == int(num):\n",
    "        print(f\"{num} is an Armstrong number\")\n",
    "    else:\n",
    "        print(f\"{num} is not an Armstrong number\")\n",
    "        \n",
    "arm(153)"
   ]
  },
  {
   "cell_type": "markdown",
   "id": "d7e731a8",
   "metadata": {},
   "source": [
    "### Q5. Write a Python Program to Find Armstrong Number in an Interval? "
   ]
  },
  {
   "cell_type": "code",
   "execution_count": 19,
   "id": "27b63a41",
   "metadata": {},
   "outputs": [
    {
     "name": "stdout",
     "output_type": "stream",
     "text": [
      "1 is an Armstrong number\n",
      "2 is an Armstrong number\n",
      "3 is an Armstrong number\n",
      "4 is an Armstrong number\n",
      "5 is an Armstrong number\n",
      "6 is an Armstrong number\n",
      "7 is an Armstrong number\n",
      "8 is an Armstrong number\n",
      "9 is an Armstrong number\n",
      "153 is an Armstrong number\n",
      "370 is an Armstrong number\n",
      "371 is an Armstrong number\n",
      "407 is an Armstrong number\n"
     ]
    }
   ],
   "source": [
    "def arm_int(limit):\n",
    "    for num in range(1,limit+1):\n",
    "        copy = num\n",
    "        num = str(num)\n",
    "        pow = len(num)\n",
    "        sum = 0\n",
    "        for i in range(pow):\n",
    "            sum += int(num[i]) ** pow\n",
    "        if sum == copy:\n",
    "            print(f\"{num} is an Armstrong number\")\n",
    "            \n",
    "arm_int(1000)"
   ]
  },
  {
   "cell_type": "markdown",
   "id": "20f522e0",
   "metadata": {},
   "source": [
    "### Q6. Write a Python Program to Find the Sum of Natural Numbers?"
   ]
  },
  {
   "cell_type": "code",
   "execution_count": 21,
   "id": "a21360cd",
   "metadata": {},
   "outputs": [
    {
     "data": {
      "text/plain": [
       "55"
      ]
     },
     "execution_count": 21,
     "metadata": {},
     "output_type": "execute_result"
    }
   ],
   "source": [
    "def sum(num):\n",
    "    return int((num*(num+1))/2)\n",
    "\n",
    "sum(10)"
   ]
  },
  {
   "cell_type": "code",
   "execution_count": null,
   "id": "0ddbe153",
   "metadata": {},
   "outputs": [],
   "source": []
  }
 ],
 "metadata": {
  "kernelspec": {
   "display_name": "Python 3",
   "language": "python",
   "name": "python3"
  },
  "language_info": {
   "codemirror_mode": {
    "name": "ipython",
    "version": 3
   },
   "file_extension": ".py",
   "mimetype": "text/x-python",
   "name": "python",
   "nbconvert_exporter": "python",
   "pygments_lexer": "ipython3",
   "version": "3.8.8"
  }
 },
 "nbformat": 4,
 "nbformat_minor": 5
}
