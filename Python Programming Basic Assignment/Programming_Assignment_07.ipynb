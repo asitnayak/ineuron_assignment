{
 "cells": [
  {
   "cell_type": "markdown",
   "id": "6b7c669d",
   "metadata": {},
   "source": [
    "### Q1. Write a Python Program to find sum of array?"
   ]
  },
  {
   "cell_type": "code",
   "execution_count": 1,
   "id": "618c7d45",
   "metadata": {},
   "outputs": [
    {
     "name": "stdout",
     "output_type": "stream",
     "text": [
      "The sum of [1, 2, 3, 4, 5, 6, 7, 8, 9, 10] is 55\n"
     ]
    }
   ],
   "source": [
    "def sumOfArray(arr):\n",
    "    in_arr = arr\n",
    "    print(f'The sum of {in_arr} is {sum(in_arr)}')\n",
    "\n",
    "arr = [1,2,3,4,5,6,7,8,9,10]\n",
    "sumOfArray(arr)"
   ]
  },
  {
   "cell_type": "markdown",
   "id": "f4b4e3ea",
   "metadata": {},
   "source": [
    "### Q2. Write a Python Program to find largest element in an array?"
   ]
  },
  {
   "cell_type": "code",
   "execution_count": 2,
   "id": "84c7a70c",
   "metadata": {},
   "outputs": [
    {
     "name": "stdout",
     "output_type": "stream",
     "text": [
      "The Largest Element in [1, 2, 3, 4, 5, 6, 7, 8, 9, 10] is 10\n"
     ]
    }
   ],
   "source": [
    "def largestElement(arr):\n",
    "    in_arr = arr\n",
    "    print(f\"The Largest Element in {in_arr} is {sorted(in_arr, reverse=True)[0]}\")\n",
    "    \n",
    "arr = [1,2,3,4,5,6,7,8,9,10]\n",
    "largestElement(arr)"
   ]
  },
  {
   "cell_type": "markdown",
   "id": "3a353cbe",
   "metadata": {},
   "source": [
    "### Q3. Write a Python Program for array rotation?"
   ]
  },
  {
   "cell_type": "code",
   "execution_count": 3,
   "id": "6bfe3522",
   "metadata": {},
   "outputs": [
    {
     "name": "stdout",
     "output_type": "stream",
     "text": [
      "The Reverse of Array [1, 2, 3, 4, 5, 6, 7, 8, 9, 10] is [10, 9, 8, 7, 6, 5, 4, 3, 2, 1]\n"
     ]
    }
   ],
   "source": [
    "def reverseOfArray(arr):\n",
    "    in_arr = arr\n",
    "    print(f\"The Reverse of Array {in_arr} is {in_arr[::-1]}\")\n",
    "    \n",
    "arr = [1,2,3,4,5,6,7,8,9,10]\n",
    "reverseOfArray(arr)"
   ]
  },
  {
   "cell_type": "markdown",
   "id": "9c8f3513",
   "metadata": {},
   "source": [
    "### Q4. Write a Python Program to Split the array and add the first part to the end?"
   ]
  },
  {
   "cell_type": "code",
   "execution_count": 10,
   "id": "bd9fc64e",
   "metadata": {},
   "outputs": [
    {
     "name": "stdout",
     "output_type": "stream",
     "text": [
      "[6, 7, 8, 9, 10, 1, 2, 3, 4, 5]\n"
     ]
    }
   ],
   "source": [
    "def sumOfSplits(arr):\n",
    "    in_arr = arr\n",
    "    a = in_arr[len(in_arr)//2 : len(in_arr)+1]\n",
    "    b = in_arr[0 : len(in_arr)//2]\n",
    "    print(a+b)\n",
    "    \n",
    "arr = [1,2,3,4,5,6,7,8,9,10]\n",
    "sumOfSplits(arr)"
   ]
  },
  {
   "cell_type": "markdown",
   "id": "e17090f7",
   "metadata": {},
   "source": [
    "### Q5. Write a Python Program to check if given array is Monotonic?"
   ]
  },
  {
   "cell_type": "code",
   "execution_count": 11,
   "id": "da7dcdc5",
   "metadata": {},
   "outputs": [
    {
     "name": "stdout",
     "output_type": "stream",
     "text": [
      "Array [1, 2, 3, 4, 5, 6, 7, 8, 9, 10] is Monotonic\n"
     ]
    }
   ],
   "source": [
    "def checkMonotonic(arr):\n",
    "    in_arr = arr\n",
    "    if(all(in_arr[i]<=in_arr[i+1] for i in range(len(in_arr)-1)) or all(in_arr[i]>=in_arr[i+1] for i in range(len(in_arr)-1))):\n",
    "        print(f'Array {in_arr} is Monotonic')\n",
    "    else:\n",
    "        print(f'Array {in_arr} is Not Monotonic')\n",
    "\n",
    "arr = [1,2,3,4,5,6,7,8,9,10]\n",
    "checkMonotonic(arr)"
   ]
  },
  {
   "cell_type": "code",
   "execution_count": null,
   "id": "a1df3660",
   "metadata": {},
   "outputs": [],
   "source": []
  }
 ],
 "metadata": {
  "kernelspec": {
   "display_name": "Python 3",
   "language": "python",
   "name": "python3"
  },
  "language_info": {
   "codemirror_mode": {
    "name": "ipython",
    "version": 3
   },
   "file_extension": ".py",
   "mimetype": "text/x-python",
   "name": "python",
   "nbconvert_exporter": "python",
   "pygments_lexer": "ipython3",
   "version": "3.8.8"
  }
 },
 "nbformat": 4,
 "nbformat_minor": 5
}
